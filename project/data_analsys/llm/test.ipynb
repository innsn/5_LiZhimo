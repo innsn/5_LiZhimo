{
 "cells": [
  {
   "cell_type": "code",
   "execution_count": 3,
   "metadata": {},
   "outputs": [],
   "source": [
    "import pandas as pd\n",
    "import json"
   ]
  },
  {
   "cell_type": "code",
   "execution_count": 4,
   "metadata": {},
   "outputs": [],
   "source": [
    "with open('output.json', 'r') as f:\n",
    "    data = json.load(f)"
   ]
  },
  {
   "cell_type": "code",
   "execution_count": 9,
   "metadata": {},
   "outputs": [
    {
     "name": "stdout",
     "output_type": "stream",
     "text": [
      "547\n",
      "1045\n",
      "2743\n",
      "1708\n",
      "463\n",
      "586\n",
      "804\n",
      "334\n",
      "1060\n",
      "1658\n",
      "1467\n",
      "1072\n",
      "2040\n",
      "811\n",
      "2222\n",
      "1450\n",
      "949\n",
      "825\n",
      "1014\n",
      "950\n",
      "3328\n",
      "1357\n",
      "1784\n",
      "649\n",
      "1003\n",
      "848\n",
      "2144\n",
      "846\n",
      "927\n",
      "925\n",
      "3405\n",
      "982\n",
      "842\n",
      "2266\n",
      "880\n",
      "891\n",
      "1498\n",
      "1942\n",
      "1872\n",
      "2167\n",
      "2650\n",
      "883\n",
      "1790\n",
      "1068\n",
      "1207\n",
      "2778\n",
      "968\n",
      "971\n",
      "826\n",
      "1371\n",
      "827\n",
      "796\n",
      "865\n",
      "783\n",
      "872\n",
      "829\n",
      "847\n",
      "1024\n",
      "919\n",
      "1220\n",
      "1379\n",
      "1115\n",
      "1419\n"
     ]
    }
   ],
   "source": [
    "for idx, item in enumerate(data):\n",
    "    # data[idx]['target'] = ''.join(item['target'][0])\n",
    "    print(len(item['target']))"
   ]
  },
  {
   "cell_type": "code",
   "execution_count": 10,
   "metadata": {},
   "outputs": [],
   "source": [
    "# 以 'utf-8' 编码写入文件\n",
    "with open('polu.json', 'w', encoding='utf-8') as f:\n",
    "    json.dump(data, f, ensure_ascii=False)  # 设置 ensure_ascii=False 可以确保写入非 ASCII 字符"
   ]
  },
  {
   "cell_type": "code",
   "execution_count": 2,
   "metadata": {},
   "outputs": [],
   "source": [
    "with open('语料.json', 'r') as f:\n",
    "    df = json.load(f)"
   ]
  },
  {
   "cell_type": "code",
   "execution_count": 3,
   "metadata": {},
   "outputs": [],
   "source": [
    "with open('语料1.json', 'w', encoding='utf-8') as json_file:\n",
    "    json.dump(df, json_file, ensure_ascii=False, indent=4)"
   ]
  },
  {
   "cell_type": "code",
   "execution_count": 14,
   "metadata": {},
   "outputs": [
    {
     "data": {
      "text/plain": [
       "63"
      ]
     },
     "execution_count": 14,
     "metadata": {},
     "output_type": "execute_result"
    }
   ],
   "source": [
    "len(data)"
   ]
  },
  {
   "cell_type": "code",
   "execution_count": 6,
   "metadata": {},
   "outputs": [],
   "source": [
    "date = []"
   ]
  },
  {
   "cell_type": "code",
   "execution_count": 8,
   "metadata": {},
   "outputs": [
    {
     "data": {
      "text/plain": [
       "[]"
      ]
     },
     "execution_count": 8,
     "metadata": {},
     "output_type": "execute_result"
    }
   ],
   "source": [
    "date"
   ]
  },
  {
   "cell_type": "code",
   "execution_count": 60,
   "metadata": {},
   "outputs": [
    {
     "name": "stdout",
     "output_type": "stream",
     "text": [
      "85\n"
     ]
    }
   ],
   "source": [
    "# 示例列表\n",
    "my_list = [1, 2, 3, 1, 2, 4, 1, 2, 3, 5]\n",
    "\n",
    "# 使用 set 来获取不重复元素\n",
    "unique_elements = set(data)\n",
    "\n",
    "# 获取不重复元素的个数\n",
    "count_unique = len(unique_elements)\n",
    "\n",
    "print(count_unique)  # 输出不重复元素的个数\n"
   ]
  },
  {
   "cell_type": "code",
   "execution_count": 13,
   "metadata": {},
   "outputs": [],
   "source": [
    "result = []\n",
    "a = 0"
   ]
  },
  {
   "cell_type": "code",
   "execution_count": 14,
   "metadata": {},
   "outputs": [],
   "source": [
    "for i in data:\n",
    "    data1 = dict()\n",
    "    data1['content'] = i['content'].replace(' ', '')\n",
    "    data1['target'] = ''.join(i['target'][0])\n",
    "    result.append(data1)\n",
    "    a = max(a, len(data1['target']))"
   ]
  },
  {
   "cell_type": "code",
   "execution_count": 15,
   "metadata": {},
   "outputs": [
    {
     "data": {
      "text/plain": [
       "3481"
      ]
     },
     "execution_count": 15,
     "metadata": {},
     "output_type": "execute_result"
    }
   ],
   "source": [
    "a"
   ]
  },
  {
   "cell_type": "code",
   "execution_count": 46,
   "metadata": {},
   "outputs": [],
   "source": [
    "with open('polu.json', 'w', encoding='utf-8') as json_file:\n",
    "    json.dump(result, json_file, ensure_ascii=False, indent=4)"
   ]
  },
  {
   "cell_type": "markdown",
   "metadata": {},
   "source": [
    "华北地区：包括北京、天津、河北、山西、内蒙古自治区。\n",
    "\n",
    "东北地区：也称东北三省，包括辽宁、吉林、黑龙江。\n",
    "\n",
    "华东地区：包括上海、江苏、浙江、安徽、福建、江西、山东。\n",
    "\n",
    "华中地区：包括河南、湖北、湖南。\n",
    "\n",
    "华南地区：包括广东、广西、海南。\n",
    "\n",
    "西南地区：包括重庆、四川、贵州、云南、西藏自治区。\n",
    "\n",
    "西北地区：包括陕西、甘肃、青海、宁夏回族自治区、新疆维吾尔自治区。\n",
    "\n",
    "港澳台地区：包括香港特别行政区、澳门特别行政区以及台湾地区。\n",
    "\n",
    "泛珠三角地区：指以广东、香港、澳门、以及周边地区为主要组成部分的地区。\n",
    "\n",
    "京津冀地区：指以北京、天津、河北省为主的区域。"
   ]
  },
  {
   "cell_type": "code",
   "execution_count": 5,
   "metadata": {},
   "outputs": [
    {
     "name": "stdout",
     "output_type": "stream",
     "text": [
      "2017-09-30\n",
      "2018-04-28\n",
      "2015-02-28\n",
      "2017-02-02\n",
      "2017-02-02\n",
      "2014-09-30\n",
      "2017-01-30\n",
      "2016-02-13\n",
      "2017-09-30\n",
      "2017-01-28\n",
      "2020-02-15\n",
      "2019-02-16\n",
      "2019-02-20\n",
      "2017-01-28\n",
      "2018-09-01\n",
      "2018-06-30\n",
      "2018-04-20\n",
      "2018-06-02\n",
      "2017-01-28\n",
      "2020-02-15\n",
      "2019-11-29\n",
      "2018-05-16\n",
      "2018-07-17\n",
      "2019-05-17\n",
      "2019-09-17\n",
      "2019-04-16\n",
      "2019-10-15\n",
      "2018-12-15\n",
      "2019-06-14\n",
      "2019-02-01\n",
      "2019-11-29\n",
      "2014-01-29\n",
      "2017-01-23\n",
      "2019-04-03\n",
      "2019-10-01\n",
      "2018-09-30\n",
      "2020-01-31\n",
      "2019-07-02\n",
      "2019-08-31\n",
      "2018-12-30\n",
      "2019-11-01\n",
      "2014-01-29\n",
      "2019-08-01\n",
      "2018-10-31\n",
      "2020-01-01\n",
      "2019-06-01\n",
      "2019-03-01\n",
      "2016-02-04\n",
      "2018-09-15\n",
      "2018-10-16\n",
      "2018-11-17\n",
      "2019-08-15\n",
      "2019-08-01\n",
      "2019-02-16\n",
      "2019-07-15\n",
      "2019-03-16\n",
      "2019-01-16\n",
      "2020-04-16\n",
      "2021-03-01\n",
      "2020-02-14\n",
      "2019-02-16\n",
      "2021-05-15\n",
      "2020-06-15\n",
      "2020-07-31\n",
      "2020-03-17\n",
      "2020-08-15\n",
      "2020-09-15\n",
      "2020-06-01\n",
      "2020-07-01\n",
      "2020-04-30\n",
      "2020-07-15\n",
      "2020-10-31\n",
      "2020-11-16\n",
      "2020-10-15\n",
      "2021-01-16\n",
      "2018-07-22\n",
      "2020-07-01\n",
      "2021-02-09\n",
      "2019-07-08\n",
      "2019-10-23\n",
      "2019-05-17\n",
      "2018-07-22\n",
      "2018-08-15\n",
      "2019-08-27\n",
      "2019-09-17\n",
      "2018-12-25\n",
      "2021-02-09\n",
      "2019-01-07\n",
      "2019-03-21\n",
      "2019-04-12\n",
      "2019-06-18\n",
      "2018-08-14\n",
      "2018-09-07\n",
      "2018-10-18\n",
      "2018-11-16\n",
      "2013-01-30\n",
      "2020-01-23\n",
      "2019-01-07\n",
      "2021-02-23\n",
      "2022-07-24\n",
      "2023-01-30\n",
      "2021-02-23\n"
     ]
    }
   ],
   "source": [
    "for time, content in data:\n",
    "    print(time)"
   ]
  }
 ],
 "metadata": {
  "kernelspec": {
   "display_name": "visual",
   "language": "python",
   "name": "python3"
  },
  "language_info": {
   "codemirror_mode": {
    "name": "ipython",
    "version": 3
   },
   "file_extension": ".py",
   "mimetype": "text/x-python",
   "name": "python",
   "nbconvert_exporter": "python",
   "pygments_lexer": "ipython3",
   "version": "3.11.4"
  }
 },
 "nbformat": 4,
 "nbformat_minor": 2
}
