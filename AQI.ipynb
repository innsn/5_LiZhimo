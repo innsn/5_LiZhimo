{
 "cells": [
  {
   "cell_type": "code",
   "execution_count": 2,
   "metadata": {},
   "outputs": [],
   "source": [
    "import pandas as pd"
   ]
  },
  {
   "cell_type": "code",
   "execution_count": 10,
   "metadata": {},
   "outputs": [],
   "source": [
    "df=pd.read_csv(\"1301_aqi_location.csv\")"
   ]
  },
  {
   "cell_type": "code",
   "execution_count": 12,
   "metadata": {},
   "outputs": [
    {
     "data": {
      "text/plain": [
       "Unnamed: 0.1     106\n",
       "PM2.5(微克每立方米)    106\n",
       " PM10(微克每立方米)    106\n",
       " SO2(微克每立方米)     106\n",
       " NO2(微克每立方米)     106\n",
       " CO(毫克每立方米)      106\n",
       " O3(微克每立方米)      106\n",
       " U(m/s)          106\n",
       " V(m/s)          106\n",
       " TEMP(K)         106\n",
       " RH(%)           106\n",
       " PSFC(Pa)        106\n",
       " lat             106\n",
       " lon             106\n",
       "                 106\n",
       "Unnamed: 0       106\n",
       "市                106\n",
       "省                106\n",
       "区/县              106\n",
       "AQI              106\n",
       "dtype: int64"
      ]
     },
     "execution_count": 12,
     "metadata": {},
     "output_type": "execute_result"
    }
   ],
   "source": [
    "df[(df['市'] == '十堰市')].count()"
   ]
  },
  {
   "cell_type": "code",
   "execution_count": 9,
   "metadata": {},
   "outputs": [
    {
     "ename": "ValueError",
     "evalue": "('Lengths must match to compare', (42249,), (1,))",
     "output_type": "error",
     "traceback": [
      "\u001b[1;31m---------------------------------------------------------------------------\u001b[0m",
      "\u001b[1;31mValueError\u001b[0m                                Traceback (most recent call last)",
      "\u001b[1;32md:\\计算机大三上\\大数据分析实践\\project\\my_code\\AQI.ipynb Cell 4\u001b[0m line \u001b[0;36m1\n\u001b[1;32m----> <a href='vscode-notebook-cell:/d%3A/%E8%AE%A1%E7%AE%97%E6%9C%BA%E5%A4%A7%E4%B8%89%E4%B8%8A/%E5%A4%A7%E6%95%B0%E6%8D%AE%E5%88%86%E6%9E%90%E5%AE%9E%E8%B7%B5/project/my_code/AQI.ipynb#X20sZmlsZQ%3D%3D?line=0'>1</a>\u001b[0m data[data[\u001b[39m'\u001b[39;49m\u001b[39m市\u001b[39;49m\u001b[39m'\u001b[39;49m]\u001b[39m==\u001b[39;49m[\u001b[39m'\u001b[39;49m\u001b[39m十堰市\u001b[39;49m\u001b[39m'\u001b[39;49m]]\u001b[39m.\u001b[39mcount()\n",
      "File \u001b[1;32mc:\\Users\\16217\\.conda\\envs\\visual\\Lib\\site-packages\\pandas\\core\\ops\\common.py:76\u001b[0m, in \u001b[0;36m_unpack_zerodim_and_defer.<locals>.new_method\u001b[1;34m(self, other)\u001b[0m\n\u001b[0;32m     72\u001b[0m             \u001b[39mreturn\u001b[39;00m \u001b[39mNotImplemented\u001b[39m\n\u001b[0;32m     74\u001b[0m other \u001b[39m=\u001b[39m item_from_zerodim(other)\n\u001b[1;32m---> 76\u001b[0m \u001b[39mreturn\u001b[39;00m method(\u001b[39mself\u001b[39;49m, other)\n",
      "File \u001b[1;32mc:\\Users\\16217\\.conda\\envs\\visual\\Lib\\site-packages\\pandas\\core\\arraylike.py:40\u001b[0m, in \u001b[0;36mOpsMixin.__eq__\u001b[1;34m(self, other)\u001b[0m\n\u001b[0;32m     38\u001b[0m \u001b[39m@unpack_zerodim_and_defer\u001b[39m(\u001b[39m\"\u001b[39m\u001b[39m__eq__\u001b[39m\u001b[39m\"\u001b[39m)\n\u001b[0;32m     39\u001b[0m \u001b[39mdef\u001b[39;00m \u001b[39m__eq__\u001b[39m(\u001b[39mself\u001b[39m, other):\n\u001b[1;32m---> 40\u001b[0m     \u001b[39mreturn\u001b[39;00m \u001b[39mself\u001b[39;49m\u001b[39m.\u001b[39;49m_cmp_method(other, operator\u001b[39m.\u001b[39;49meq)\n",
      "File \u001b[1;32mc:\\Users\\16217\\.conda\\envs\\visual\\Lib\\site-packages\\pandas\\core\\series.py:5804\u001b[0m, in \u001b[0;36mSeries._cmp_method\u001b[1;34m(self, other, op)\u001b[0m\n\u001b[0;32m   5801\u001b[0m lvalues \u001b[39m=\u001b[39m \u001b[39mself\u001b[39m\u001b[39m.\u001b[39m_values\n\u001b[0;32m   5802\u001b[0m rvalues \u001b[39m=\u001b[39m extract_array(other, extract_numpy\u001b[39m=\u001b[39m\u001b[39mTrue\u001b[39;00m, extract_range\u001b[39m=\u001b[39m\u001b[39mTrue\u001b[39;00m)\n\u001b[1;32m-> 5804\u001b[0m res_values \u001b[39m=\u001b[39m ops\u001b[39m.\u001b[39;49mcomparison_op(lvalues, rvalues, op)\n\u001b[0;32m   5806\u001b[0m \u001b[39mreturn\u001b[39;00m \u001b[39mself\u001b[39m\u001b[39m.\u001b[39m_construct_result(res_values, name\u001b[39m=\u001b[39mres_name)\n",
      "File \u001b[1;32mc:\\Users\\16217\\.conda\\envs\\visual\\Lib\\site-packages\\pandas\\core\\ops\\array_ops.py:323\u001b[0m, in \u001b[0;36mcomparison_op\u001b[1;34m(left, right, op)\u001b[0m\n\u001b[0;32m    318\u001b[0m \u001b[39mif\u001b[39;00m \u001b[39misinstance\u001b[39m(rvalues, (np\u001b[39m.\u001b[39mndarray, ABCExtensionArray)):\n\u001b[0;32m    319\u001b[0m     \u001b[39m# TODO: make this treatment consistent across ops and classes.\u001b[39;00m\n\u001b[0;32m    320\u001b[0m     \u001b[39m#  We are not catching all listlikes here (e.g. frozenset, tuple)\u001b[39;00m\n\u001b[0;32m    321\u001b[0m     \u001b[39m#  The ambiguous case is object-dtype.  See GH#27803\u001b[39;00m\n\u001b[0;32m    322\u001b[0m     \u001b[39mif\u001b[39;00m \u001b[39mlen\u001b[39m(lvalues) \u001b[39m!=\u001b[39m \u001b[39mlen\u001b[39m(rvalues):\n\u001b[1;32m--> 323\u001b[0m         \u001b[39mraise\u001b[39;00m \u001b[39mValueError\u001b[39;00m(\n\u001b[0;32m    324\u001b[0m             \u001b[39m\"\u001b[39m\u001b[39mLengths must match to compare\u001b[39m\u001b[39m\"\u001b[39m, lvalues\u001b[39m.\u001b[39mshape, rvalues\u001b[39m.\u001b[39mshape\n\u001b[0;32m    325\u001b[0m         )\n\u001b[0;32m    327\u001b[0m \u001b[39mif\u001b[39;00m should_extension_dispatch(lvalues, rvalues) \u001b[39mor\u001b[39;00m (\n\u001b[0;32m    328\u001b[0m     (\u001b[39misinstance\u001b[39m(rvalues, (Timedelta, BaseOffset, Timestamp)) \u001b[39mor\u001b[39;00m right \u001b[39mis\u001b[39;00m NaT)\n\u001b[0;32m    329\u001b[0m     \u001b[39mand\u001b[39;00m lvalues\u001b[39m.\u001b[39mdtype \u001b[39m!=\u001b[39m \u001b[39mobject\u001b[39m\n\u001b[0;32m    330\u001b[0m ):\n\u001b[0;32m    331\u001b[0m     \u001b[39m# Call the method on lvalues\u001b[39;00m\n\u001b[0;32m    332\u001b[0m     res_values \u001b[39m=\u001b[39m op(lvalues, rvalues)\n",
      "\u001b[1;31mValueError\u001b[0m: ('Lengths must match to compare', (42249,), (1,))"
     ]
    }
   ],
   "source": [
    "data[data['市']==['十堰市']].count()"
   ]
  },
  {
   "cell_type": "code",
   "execution_count": 3,
   "metadata": {},
   "outputs": [],
   "source": [
    "def pm25(x):\n",
    "    result = []\n",
    "    for item in x:\n",
    "        if(item<35):\n",
    "            result.append(x/35*50)\n",
    "        elif item<75:\n",
    "            result.append((x-35)/40*50+50)\n",
    "        elif item<115:\n",
    "            result.append((x-75)/40*50+100)\n",
    "        elif item<150:\n",
    "            result.append((x-115)/35*50+150)\n",
    "        elif item<250:\n",
    "            result.append((x-150)/100*50+200)\n",
    "        elif item<350:\n",
    "            result.append((x-250)/100*50+300)\n",
    "        elif item<500:\n",
    "            result.append((x-350)/100*50+400)\n",
    "    return result\n"
   ]
  },
  {
   "cell_type": "code",
   "execution_count": 4,
   "metadata": {},
   "outputs": [],
   "source": [
    "def pm10(x):\n",
    "    result = []\n",
    "    for item in x:\n",
    "        if(item<50):\n",
    "            result.append(x)\n",
    "        elif item<150:\n",
    "            result.append((x-50)/100*50+50)\n",
    "        elif item<250:\n",
    "            result.append((x-150)/100*50+100)\n",
    "        elif item<350:\n",
    "            result.append((x-250)/100*50+150)\n",
    "        elif item<420:\n",
    "            result.append((x-350)/70*50+200)\n",
    "        elif item<500:\n",
    "            result.append((x-420)/80*50+300)\n",
    "        elif item<600:\n",
    "            result.append((x-500)/100*50+400)\n",
    "    return result"
   ]
  },
  {
   "cell_type": "code",
   "execution_count": 5,
   "metadata": {},
   "outputs": [],
   "source": [
    "def so2(x):\n",
    "    result = []\n",
    "    for item in x:\n",
    "        if(item<50):\n",
    "            result.append(x)\n",
    "        elif item<150:\n",
    "            result.append((x-50)/100*50+50)\n",
    "        elif item<475:\n",
    "            result.append((x-150)/325*50+100)\n",
    "        elif item<800:\n",
    "            result.append((x-475)/325*50+150)\n",
    "        elif item<1600:\n",
    "            result.append((x-800)/800*50+200)\n",
    "        elif item<2100:\n",
    "            result.append((x-1600)/500*50+300)\n",
    "        elif item<2620:\n",
    "            result.append((x-2100)/520*50+400)\n",
    "    return result"
   ]
  },
  {
   "cell_type": "code",
   "execution_count": 6,
   "metadata": {},
   "outputs": [],
   "source": [
    "def no2(x):\n",
    "    result = []\n",
    "    for item in x:\n",
    "        if(item<40):\n",
    "            result.append(x/40*50)\n",
    "        elif item<80:\n",
    "            result.append((x-40)/40*50+50)\n",
    "        elif item<180:\n",
    "            result.append((x-80)/100*50+100)\n",
    "        elif item<280:\n",
    "            result.append((x-180)/100*50+150)\n",
    "        elif item<565:\n",
    "            result.append((x-280)/285*50+200)\n",
    "        elif item<750:\n",
    "            result.append((x-565)/195*50+300)\n",
    "        elif item<940:\n",
    "            result.append((x-750)/190*50+400)\n",
    "    return result"
   ]
  },
  {
   "cell_type": "code",
   "execution_count": 7,
   "metadata": {},
   "outputs": [],
   "source": [
    "def co(x):\n",
    "    result = []\n",
    "    for item in x:\n",
    "        if(item<2):\n",
    "            result.append(x/2*50)\n",
    "        elif item<4:\n",
    "            result.append((x-2)/2*50+50)\n",
    "        elif item<14:\n",
    "            result.append((x-4)/10*50+100)\n",
    "        elif item<24:\n",
    "            result.append((x-14)/10*50+150)\n",
    "        elif item<36:\n",
    "            result.append((x-24)/12*50+200)\n",
    "        elif item<48:\n",
    "            result.append((x-36)/12*50+300)\n",
    "        elif item<60:\n",
    "            result.append((x-48)/12*50+400)\n",
    "    return result"
   ]
  },
  {
   "cell_type": "code",
   "execution_count": 8,
   "metadata": {},
   "outputs": [
    {
     "ename": "KeyboardInterrupt",
     "evalue": "",
     "output_type": "error",
     "traceback": [
      "\u001b[1;31m---------------------------------------------------------------------------\u001b[0m",
      "\u001b[1;31mKeyboardInterrupt\u001b[0m                         Traceback (most recent call last)",
      "\u001b[1;32md:\\计算机大三上\\大数据分析实践\\project\\my_code\\AQI.ipynb Cell 8\u001b[0m line \u001b[0;36m5\n\u001b[0;32m      <a href='vscode-notebook-cell:/d%3A/%E8%AE%A1%E7%AE%97%E6%9C%BA%E5%A4%A7%E4%B8%89%E4%B8%8A/%E5%A4%A7%E6%95%B0%E6%8D%AE%E5%88%86%E6%9E%90%E5%AE%9E%E8%B7%B5/project/my_code/AQI.ipynb#X10sZmlsZQ%3D%3D?line=2'>3</a>\u001b[0m So2\u001b[39m=\u001b[39mso2(data[\u001b[39m'\u001b[39m\u001b[39m SO2(微克每立方米)\u001b[39m\u001b[39m'\u001b[39m])\n\u001b[0;32m      <a href='vscode-notebook-cell:/d%3A/%E8%AE%A1%E7%AE%97%E6%9C%BA%E5%A4%A7%E4%B8%89%E4%B8%8A/%E5%A4%A7%E6%95%B0%E6%8D%AE%E5%88%86%E6%9E%90%E5%AE%9E%E8%B7%B5/project/my_code/AQI.ipynb#X10sZmlsZQ%3D%3D?line=3'>4</a>\u001b[0m No2\u001b[39m=\u001b[39mno2(data[\u001b[39m'\u001b[39m\u001b[39m NO2(微克每立方米)\u001b[39m\u001b[39m'\u001b[39m])\n\u001b[1;32m----> <a href='vscode-notebook-cell:/d%3A/%E8%AE%A1%E7%AE%97%E6%9C%BA%E5%A4%A7%E4%B8%89%E4%B8%8A/%E5%A4%A7%E6%95%B0%E6%8D%AE%E5%88%86%E6%9E%90%E5%AE%9E%E8%B7%B5/project/my_code/AQI.ipynb#X10sZmlsZQ%3D%3D?line=4'>5</a>\u001b[0m Co\u001b[39m=\u001b[39mco(data[\u001b[39m'\u001b[39;49m\u001b[39m CO(毫克每立方米)\u001b[39;49m\u001b[39m'\u001b[39;49m])\n",
      "\u001b[1;32md:\\计算机大三上\\大数据分析实践\\project\\my_code\\AQI.ipynb Cell 8\u001b[0m line \u001b[0;36m5\n\u001b[0;32m      <a href='vscode-notebook-cell:/d%3A/%E8%AE%A1%E7%AE%97%E6%9C%BA%E5%A4%A7%E4%B8%89%E4%B8%8A/%E5%A4%A7%E6%95%B0%E6%8D%AE%E5%88%86%E6%9E%90%E5%AE%9E%E8%B7%B5/project/my_code/AQI.ipynb#X10sZmlsZQ%3D%3D?line=2'>3</a>\u001b[0m \u001b[39mfor\u001b[39;00m item \u001b[39min\u001b[39;00m x:\n\u001b[0;32m      <a href='vscode-notebook-cell:/d%3A/%E8%AE%A1%E7%AE%97%E6%9C%BA%E5%A4%A7%E4%B8%89%E4%B8%8A/%E5%A4%A7%E6%95%B0%E6%8D%AE%E5%88%86%E6%9E%90%E5%AE%9E%E8%B7%B5/project/my_code/AQI.ipynb#X10sZmlsZQ%3D%3D?line=3'>4</a>\u001b[0m     \u001b[39mif\u001b[39;00m(item\u001b[39m<\u001b[39m\u001b[39m2\u001b[39m):\n\u001b[1;32m----> <a href='vscode-notebook-cell:/d%3A/%E8%AE%A1%E7%AE%97%E6%9C%BA%E5%A4%A7%E4%B8%89%E4%B8%8A/%E5%A4%A7%E6%95%B0%E6%8D%AE%E5%88%86%E6%9E%90%E5%AE%9E%E8%B7%B5/project/my_code/AQI.ipynb#X10sZmlsZQ%3D%3D?line=4'>5</a>\u001b[0m         result\u001b[39m.\u001b[39mappend(x\u001b[39m/\u001b[39;49m\u001b[39m2\u001b[39;49m\u001b[39m*\u001b[39m\u001b[39m50\u001b[39m)\n\u001b[0;32m      <a href='vscode-notebook-cell:/d%3A/%E8%AE%A1%E7%AE%97%E6%9C%BA%E5%A4%A7%E4%B8%89%E4%B8%8A/%E5%A4%A7%E6%95%B0%E6%8D%AE%E5%88%86%E6%9E%90%E5%AE%9E%E8%B7%B5/project/my_code/AQI.ipynb#X10sZmlsZQ%3D%3D?line=5'>6</a>\u001b[0m     \u001b[39melif\u001b[39;00m item\u001b[39m<\u001b[39m\u001b[39m4\u001b[39m:\n\u001b[0;32m      <a href='vscode-notebook-cell:/d%3A/%E8%AE%A1%E7%AE%97%E6%9C%BA%E5%A4%A7%E4%B8%89%E4%B8%8A/%E5%A4%A7%E6%95%B0%E6%8D%AE%E5%88%86%E6%9E%90%E5%AE%9E%E8%B7%B5/project/my_code/AQI.ipynb#X10sZmlsZQ%3D%3D?line=6'>7</a>\u001b[0m         result\u001b[39m.\u001b[39mappend((x\u001b[39m-\u001b[39m\u001b[39m2\u001b[39m)\u001b[39m/\u001b[39m\u001b[39m2\u001b[39m\u001b[39m*\u001b[39m\u001b[39m50\u001b[39m\u001b[39m+\u001b[39m\u001b[39m50\u001b[39m)\n",
      "File \u001b[1;32mc:\\Users\\16217\\.conda\\envs\\visual\\Lib\\site-packages\\pandas\\core\\ops\\common.py:76\u001b[0m, in \u001b[0;36m_unpack_zerodim_and_defer.<locals>.new_method\u001b[1;34m(self, other)\u001b[0m\n\u001b[0;32m     72\u001b[0m             \u001b[39mreturn\u001b[39;00m \u001b[39mNotImplemented\u001b[39m\n\u001b[0;32m     74\u001b[0m other \u001b[39m=\u001b[39m item_from_zerodim(other)\n\u001b[1;32m---> 76\u001b[0m \u001b[39mreturn\u001b[39;00m method(\u001b[39mself\u001b[39;49m, other)\n",
      "File \u001b[1;32mc:\\Users\\16217\\.conda\\envs\\visual\\Lib\\site-packages\\pandas\\core\\arraylike.py:210\u001b[0m, in \u001b[0;36mOpsMixin.__truediv__\u001b[1;34m(self, other)\u001b[0m\n\u001b[0;32m    208\u001b[0m \u001b[39m@unpack_zerodim_and_defer\u001b[39m(\u001b[39m\"\u001b[39m\u001b[39m__truediv__\u001b[39m\u001b[39m\"\u001b[39m)\n\u001b[0;32m    209\u001b[0m \u001b[39mdef\u001b[39;00m \u001b[39m__truediv__\u001b[39m(\u001b[39mself\u001b[39m, other):\n\u001b[1;32m--> 210\u001b[0m     \u001b[39mreturn\u001b[39;00m \u001b[39mself\u001b[39;49m\u001b[39m.\u001b[39;49m_arith_method(other, operator\u001b[39m.\u001b[39;49mtruediv)\n",
      "File \u001b[1;32mc:\\Users\\16217\\.conda\\envs\\visual\\Lib\\site-packages\\pandas\\core\\series.py:5820\u001b[0m, in \u001b[0;36mSeries._arith_method\u001b[1;34m(self, other, op)\u001b[0m\n\u001b[0;32m   5818\u001b[0m \u001b[39mdef\u001b[39;00m \u001b[39m_arith_method\u001b[39m(\u001b[39mself\u001b[39m, other, op):\n\u001b[0;32m   5819\u001b[0m     \u001b[39mself\u001b[39m, other \u001b[39m=\u001b[39m \u001b[39mself\u001b[39m\u001b[39m.\u001b[39m_align_for_op(other)\n\u001b[1;32m-> 5820\u001b[0m     \u001b[39mreturn\u001b[39;00m base\u001b[39m.\u001b[39;49mIndexOpsMixin\u001b[39m.\u001b[39;49m_arith_method(\u001b[39mself\u001b[39;49m, other, op)\n",
      "File \u001b[1;32mc:\\Users\\16217\\.conda\\envs\\visual\\Lib\\site-packages\\pandas\\core\\base.py:1381\u001b[0m, in \u001b[0;36mIndexOpsMixin._arith_method\u001b[1;34m(self, other, op)\u001b[0m\n\u001b[0;32m   1378\u001b[0m     rvalues \u001b[39m=\u001b[39m np\u001b[39m.\u001b[39marange(rvalues\u001b[39m.\u001b[39mstart, rvalues\u001b[39m.\u001b[39mstop, rvalues\u001b[39m.\u001b[39mstep)\n\u001b[0;32m   1380\u001b[0m \u001b[39mwith\u001b[39;00m np\u001b[39m.\u001b[39merrstate(\u001b[39mall\u001b[39m\u001b[39m=\u001b[39m\u001b[39m\"\u001b[39m\u001b[39mignore\u001b[39m\u001b[39m\"\u001b[39m):\n\u001b[1;32m-> 1381\u001b[0m     result \u001b[39m=\u001b[39m ops\u001b[39m.\u001b[39;49marithmetic_op(lvalues, rvalues, op)\n\u001b[0;32m   1383\u001b[0m \u001b[39mreturn\u001b[39;00m \u001b[39mself\u001b[39m\u001b[39m.\u001b[39m_construct_result(result, name\u001b[39m=\u001b[39mres_name)\n",
      "File \u001b[1;32mc:\\Users\\16217\\.conda\\envs\\visual\\Lib\\site-packages\\pandas\\core\\ops\\array_ops.py:285\u001b[0m, in \u001b[0;36marithmetic_op\u001b[1;34m(left, right, op)\u001b[0m\n\u001b[0;32m    281\u001b[0m     _bool_arith_check(op, left, right)  \u001b[39m# type: ignore[arg-type]\u001b[39;00m\n\u001b[0;32m    283\u001b[0m     \u001b[39m# error: Argument 1 to \"_na_arithmetic_op\" has incompatible type\u001b[39;00m\n\u001b[0;32m    284\u001b[0m     \u001b[39m# \"Union[ExtensionArray, ndarray[Any, Any]]\"; expected \"ndarray[Any, Any]\"\u001b[39;00m\n\u001b[1;32m--> 285\u001b[0m     res_values \u001b[39m=\u001b[39m _na_arithmetic_op(left, right, op)  \u001b[39m# type: ignore[arg-type]\u001b[39;00m\n\u001b[0;32m    287\u001b[0m \u001b[39mreturn\u001b[39;00m res_values\n",
      "File \u001b[1;32mc:\\Users\\16217\\.conda\\envs\\visual\\Lib\\site-packages\\pandas\\core\\ops\\array_ops.py:220\u001b[0m, in \u001b[0;36m_na_arithmetic_op\u001b[1;34m(left, right, op, is_cmp)\u001b[0m\n\u001b[0;32m    217\u001b[0m     func \u001b[39m=\u001b[39m partial(expressions\u001b[39m.\u001b[39mevaluate, op)\n\u001b[0;32m    219\u001b[0m \u001b[39mtry\u001b[39;00m:\n\u001b[1;32m--> 220\u001b[0m     result \u001b[39m=\u001b[39m func(left, right)\n\u001b[0;32m    221\u001b[0m \u001b[39mexcept\u001b[39;00m \u001b[39mTypeError\u001b[39;00m:\n\u001b[0;32m    222\u001b[0m     \u001b[39mif\u001b[39;00m \u001b[39mnot\u001b[39;00m is_cmp \u001b[39mand\u001b[39;00m (\n\u001b[0;32m    223\u001b[0m         left\u001b[39m.\u001b[39mdtype \u001b[39m==\u001b[39m \u001b[39mobject\u001b[39m \u001b[39mor\u001b[39;00m \u001b[39mgetattr\u001b[39m(right, \u001b[39m\"\u001b[39m\u001b[39mdtype\u001b[39m\u001b[39m\"\u001b[39m, \u001b[39mNone\u001b[39;00m) \u001b[39m==\u001b[39m \u001b[39mobject\u001b[39m\n\u001b[0;32m    224\u001b[0m     ):\n\u001b[1;32m   (...)\u001b[0m\n\u001b[0;32m    227\u001b[0m         \u001b[39m# Don't do this for comparisons, as that will handle complex numbers\u001b[39;00m\n\u001b[0;32m    228\u001b[0m         \u001b[39m#  incorrectly, see GH#32047\u001b[39;00m\n",
      "File \u001b[1;32mc:\\Users\\16217\\.conda\\envs\\visual\\Lib\\site-packages\\pandas\\core\\computation\\expressions.py:242\u001b[0m, in \u001b[0;36mevaluate\u001b[1;34m(op, a, b, use_numexpr)\u001b[0m\n\u001b[0;32m    239\u001b[0m \u001b[39mif\u001b[39;00m op_str \u001b[39mis\u001b[39;00m \u001b[39mnot\u001b[39;00m \u001b[39mNone\u001b[39;00m:\n\u001b[0;32m    240\u001b[0m     \u001b[39mif\u001b[39;00m use_numexpr:\n\u001b[0;32m    241\u001b[0m         \u001b[39m# error: \"None\" not callable\u001b[39;00m\n\u001b[1;32m--> 242\u001b[0m         \u001b[39mreturn\u001b[39;00m _evaluate(op, op_str, a, b)  \u001b[39m# type: ignore[misc]\u001b[39;00m\n\u001b[0;32m    243\u001b[0m \u001b[39mreturn\u001b[39;00m _evaluate_standard(op, op_str, a, b)\n",
      "File \u001b[1;32mc:\\Users\\16217\\.conda\\envs\\visual\\Lib\\site-packages\\pandas\\core\\computation\\expressions.py:73\u001b[0m, in \u001b[0;36m_evaluate_standard\u001b[1;34m(op, op_str, a, b)\u001b[0m\n\u001b[0;32m     71\u001b[0m \u001b[39mif\u001b[39;00m _TEST_MODE:\n\u001b[0;32m     72\u001b[0m     _store_test_result(\u001b[39mFalse\u001b[39;00m)\n\u001b[1;32m---> 73\u001b[0m \u001b[39mreturn\u001b[39;00m op(a, b)\n",
      "\u001b[1;31mKeyboardInterrupt\u001b[0m: "
     ]
    }
   ],
   "source": [
    "Pm25=pm25(data['PM2.5(微克每立方米)'])\n",
    "Pm10=pm10(data[' PM10(微克每立方米)'])\n",
    "So2=so2(data[' SO2(微克每立方米)'])\n",
    "No2=no2(data[' NO2(微克每立方米)'])\n",
    "Co=co(data[' CO(毫克每立方米)'])"
   ]
  },
  {
   "cell_type": "code",
   "execution_count": null,
   "metadata": {},
   "outputs": [
    {
     "data": {
      "text/plain": [
       "23.56"
      ]
     },
     "execution_count": 12,
     "metadata": {},
     "output_type": "execute_result"
    }
   ],
   "source": [
    "Pm10[0][0]"
   ]
  },
  {
   "cell_type": "code",
   "execution_count": null,
   "metadata": {},
   "outputs": [
    {
     "data": {
      "text/plain": [
       "23"
      ]
     },
     "execution_count": 19,
     "metadata": {},
     "output_type": "execute_result"
    }
   ],
   "source": [
    "max(1,23,2)"
   ]
  },
  {
   "cell_type": "code",
   "execution_count": null,
   "metadata": {},
   "outputs": [],
   "source": [
    "Result=[]\n",
    "for i in range(0,42249):\n",
    "    Result.append(max(Pm25[0][i],Pm10[0][i],So2[0][i],No2[0][i],Co[0][i]))"
   ]
  },
  {
   "cell_type": "code",
   "execution_count": null,
   "metadata": {},
   "outputs": [
    {
     "data": {
      "text/plain": [
       "42249"
      ]
     },
     "execution_count": 33,
     "metadata": {},
     "output_type": "execute_result"
    }
   ],
   "source": [
    "len(Result)"
   ]
  },
  {
   "cell_type": "code",
   "execution_count": null,
   "metadata": {},
   "outputs": [],
   "source": [
    "data = data.assign(AQI=Result)"
   ]
  },
  {
   "cell_type": "code",
   "execution_count": 35,
   "metadata": {},
   "outputs": [
    {
     "data": {
      "text/html": [
       "<div>\n",
       "<style scoped>\n",
       "    .dataframe tbody tr th:only-of-type {\n",
       "        vertical-align: middle;\n",
       "    }\n",
       "\n",
       "    .dataframe tbody tr th {\n",
       "        vertical-align: top;\n",
       "    }\n",
       "\n",
       "    .dataframe thead th {\n",
       "        text-align: right;\n",
       "    }\n",
       "</style>\n",
       "<table border=\"1\" class=\"dataframe\">\n",
       "  <thead>\n",
       "    <tr style=\"text-align: right;\">\n",
       "      <th></th>\n",
       "      <th>PM2.5(微克每立方米)</th>\n",
       "      <th>PM10(微克每立方米)</th>\n",
       "      <th>SO2(微克每立方米)</th>\n",
       "      <th>NO2(微克每立方米)</th>\n",
       "      <th>CO(毫克每立方米)</th>\n",
       "      <th>O3(微克每立方米)</th>\n",
       "      <th>U(m/s)</th>\n",
       "      <th>V(m/s)</th>\n",
       "      <th>TEMP(K)</th>\n",
       "      <th>RH(%)</th>\n",
       "      <th>PSFC(Pa)</th>\n",
       "      <th>lat</th>\n",
       "      <th>lon</th>\n",
       "      <th></th>\n",
       "      <th>AQI</th>\n",
       "    </tr>\n",
       "  </thead>\n",
       "  <tbody>\n",
       "    <tr>\n",
       "      <th>0</th>\n",
       "      <td>20.21</td>\n",
       "      <td>23.56</td>\n",
       "      <td>8.65</td>\n",
       "      <td>4.58</td>\n",
       "      <td>0.29</td>\n",
       "      <td>63.44</td>\n",
       "      <td>-2.48</td>\n",
       "      <td>-2.31</td>\n",
       "      <td>291.54</td>\n",
       "      <td>68.14</td>\n",
       "      <td>100350.11</td>\n",
       "      <td>18.34</td>\n",
       "      <td>109.25</td>\n",
       "      <td></td>\n",
       "      <td>28.871429</td>\n",
       "    </tr>\n",
       "    <tr>\n",
       "      <th>1</th>\n",
       "      <td>20.41</td>\n",
       "      <td>23.96</td>\n",
       "      <td>9.28</td>\n",
       "      <td>5.24</td>\n",
       "      <td>0.29</td>\n",
       "      <td>62.53</td>\n",
       "      <td>-3.43</td>\n",
       "      <td>-3.21</td>\n",
       "      <td>291.96</td>\n",
       "      <td>67.41</td>\n",
       "      <td>100546.63</td>\n",
       "      <td>18.34</td>\n",
       "      <td>109.38</td>\n",
       "      <td></td>\n",
       "      <td>29.157143</td>\n",
       "    </tr>\n",
       "    <tr>\n",
       "      <th>2</th>\n",
       "      <td>21.17</td>\n",
       "      <td>24.78</td>\n",
       "      <td>10.07</td>\n",
       "      <td>5.47</td>\n",
       "      <td>0.30</td>\n",
       "      <td>62.24</td>\n",
       "      <td>-3.43</td>\n",
       "      <td>-4.72</td>\n",
       "      <td>291.37</td>\n",
       "      <td>69.59</td>\n",
       "      <td>100428.13</td>\n",
       "      <td>18.33</td>\n",
       "      <td>109.52</td>\n",
       "      <td></td>\n",
       "      <td>30.242857</td>\n",
       "    </tr>\n",
       "    <tr>\n",
       "      <th>3</th>\n",
       "      <td>22.24</td>\n",
       "      <td>26.04</td>\n",
       "      <td>10.36</td>\n",
       "      <td>5.28</td>\n",
       "      <td>0.30</td>\n",
       "      <td>63.58</td>\n",
       "      <td>-2.92</td>\n",
       "      <td>-5.32</td>\n",
       "      <td>290.74</td>\n",
       "      <td>72.94</td>\n",
       "      <td>100569.27</td>\n",
       "      <td>18.33</td>\n",
       "      <td>109.66</td>\n",
       "      <td></td>\n",
       "      <td>31.771429</td>\n",
       "    </tr>\n",
       "    <tr>\n",
       "      <th>4</th>\n",
       "      <td>19.68</td>\n",
       "      <td>22.34</td>\n",
       "      <td>7.62</td>\n",
       "      <td>3.58</td>\n",
       "      <td>0.29</td>\n",
       "      <td>66.21</td>\n",
       "      <td>-2.51</td>\n",
       "      <td>-3.13</td>\n",
       "      <td>291.67</td>\n",
       "      <td>65.97</td>\n",
       "      <td>101620.34</td>\n",
       "      <td>18.49</td>\n",
       "      <td>108.83</td>\n",
       "      <td></td>\n",
       "      <td>28.114286</td>\n",
       "    </tr>\n",
       "    <tr>\n",
       "      <th>...</th>\n",
       "      <td>...</td>\n",
       "      <td>...</td>\n",
       "      <td>...</td>\n",
       "      <td>...</td>\n",
       "      <td>...</td>\n",
       "      <td>...</td>\n",
       "      <td>...</td>\n",
       "      <td>...</td>\n",
       "      <td>...</td>\n",
       "      <td>...</td>\n",
       "      <td>...</td>\n",
       "      <td>...</td>\n",
       "      <td>...</td>\n",
       "      <td>...</td>\n",
       "      <td>...</td>\n",
       "    </tr>\n",
       "    <tr>\n",
       "      <th>42244</th>\n",
       "      <td>0.23</td>\n",
       "      <td>0.26</td>\n",
       "      <td>0.51</td>\n",
       "      <td>0.57</td>\n",
       "      <td>0.22</td>\n",
       "      <td>63.67</td>\n",
       "      <td>5.14</td>\n",
       "      <td>-4.29</td>\n",
       "      <td>246.32</td>\n",
       "      <td>57.99</td>\n",
       "      <td>98157.16</td>\n",
       "      <td>53.18</td>\n",
       "      <td>125.08</td>\n",
       "      <td></td>\n",
       "      <td>5.500000</td>\n",
       "    </tr>\n",
       "    <tr>\n",
       "      <th>42245</th>\n",
       "      <td>0.13</td>\n",
       "      <td>0.15</td>\n",
       "      <td>1.46</td>\n",
       "      <td>0.52</td>\n",
       "      <td>0.22</td>\n",
       "      <td>63.09</td>\n",
       "      <td>2.99</td>\n",
       "      <td>-5.34</td>\n",
       "      <td>245.23</td>\n",
       "      <td>59.83</td>\n",
       "      <td>96514.89</td>\n",
       "      <td>53.51</td>\n",
       "      <td>123.24</td>\n",
       "      <td></td>\n",
       "      <td>5.500000</td>\n",
       "    </tr>\n",
       "    <tr>\n",
       "      <th>42246</th>\n",
       "      <td>0.14</td>\n",
       "      <td>0.16</td>\n",
       "      <td>1.51</td>\n",
       "      <td>0.56</td>\n",
       "      <td>0.22</td>\n",
       "      <td>63.93</td>\n",
       "      <td>3.49</td>\n",
       "      <td>-6.46</td>\n",
       "      <td>245.50</td>\n",
       "      <td>57.22</td>\n",
       "      <td>96618.52</td>\n",
       "      <td>53.49</td>\n",
       "      <td>123.45</td>\n",
       "      <td></td>\n",
       "      <td>5.500000</td>\n",
       "    </tr>\n",
       "    <tr>\n",
       "      <th>42247</th>\n",
       "      <td>0.15</td>\n",
       "      <td>0.18</td>\n",
       "      <td>1.27</td>\n",
       "      <td>0.60</td>\n",
       "      <td>0.22</td>\n",
       "      <td>64.56</td>\n",
       "      <td>3.63</td>\n",
       "      <td>-6.44</td>\n",
       "      <td>246.06</td>\n",
       "      <td>54.63</td>\n",
       "      <td>97171.19</td>\n",
       "      <td>53.47</td>\n",
       "      <td>123.66</td>\n",
       "      <td></td>\n",
       "      <td>5.500000</td>\n",
       "    </tr>\n",
       "    <tr>\n",
       "      <th>42248</th>\n",
       "      <td>0.17</td>\n",
       "      <td>0.20</td>\n",
       "      <td>1.12</td>\n",
       "      <td>0.70</td>\n",
       "      <td>0.22</td>\n",
       "      <td>64.88</td>\n",
       "      <td>3.85</td>\n",
       "      <td>-6.27</td>\n",
       "      <td>246.37</td>\n",
       "      <td>53.44</td>\n",
       "      <td>97647.19</td>\n",
       "      <td>53.44</td>\n",
       "      <td>123.87</td>\n",
       "      <td></td>\n",
       "      <td>5.500000</td>\n",
       "    </tr>\n",
       "  </tbody>\n",
       "</table>\n",
       "<p>42249 rows × 15 columns</p>\n",
       "</div>"
      ],
      "text/plain": [
       "       PM2.5(微克每立方米)   PM10(微克每立方米)   SO2(微克每立方米)   NO2(微克每立方米)   CO(毫克每立方米)  \\\n",
       "0              20.21          23.56          8.65          4.58         0.29   \n",
       "1              20.41          23.96          9.28          5.24         0.29   \n",
       "2              21.17          24.78         10.07          5.47         0.30   \n",
       "3              22.24          26.04         10.36          5.28         0.30   \n",
       "4              19.68          22.34          7.62          3.58         0.29   \n",
       "...              ...            ...           ...           ...          ...   \n",
       "42244           0.23           0.26          0.51          0.57         0.22   \n",
       "42245           0.13           0.15          1.46          0.52         0.22   \n",
       "42246           0.14           0.16          1.51          0.56         0.22   \n",
       "42247           0.15           0.18          1.27          0.60         0.22   \n",
       "42248           0.17           0.20          1.12          0.70         0.22   \n",
       "\n",
       "        O3(微克每立方米)   U(m/s)   V(m/s)   TEMP(K)   RH(%)   PSFC(Pa)    lat  \\\n",
       "0            63.44    -2.48    -2.31    291.54   68.14  100350.11  18.34   \n",
       "1            62.53    -3.43    -3.21    291.96   67.41  100546.63  18.34   \n",
       "2            62.24    -3.43    -4.72    291.37   69.59  100428.13  18.33   \n",
       "3            63.58    -2.92    -5.32    290.74   72.94  100569.27  18.33   \n",
       "4            66.21    -2.51    -3.13    291.67   65.97  101620.34  18.49   \n",
       "...            ...      ...      ...       ...     ...        ...    ...   \n",
       "42244        63.67     5.14    -4.29    246.32   57.99   98157.16  53.18   \n",
       "42245        63.09     2.99    -5.34    245.23   59.83   96514.89  53.51   \n",
       "42246        63.93     3.49    -6.46    245.50   57.22   96618.52  53.49   \n",
       "42247        64.56     3.63    -6.44    246.06   54.63   97171.19  53.47   \n",
       "42248        64.88     3.85    -6.27    246.37   53.44   97647.19  53.44   \n",
       "\n",
       "          lon           AQI  \n",
       "0      109.25     28.871429  \n",
       "1      109.38     29.157143  \n",
       "2      109.52     30.242857  \n",
       "3      109.66     31.771429  \n",
       "4      108.83     28.114286  \n",
       "...       ... ..        ...  \n",
       "42244  125.08      5.500000  \n",
       "42245  123.24      5.500000  \n",
       "42246  123.45      5.500000  \n",
       "42247  123.66      5.500000  \n",
       "42248  123.87      5.500000  \n",
       "\n",
       "[42249 rows x 15 columns]"
      ]
     },
     "execution_count": 35,
     "metadata": {},
     "output_type": "execute_result"
    }
   ],
   "source": [
    "data.to_csv(\"\")"
   ]
  }
 ],
 "metadata": {
  "kernelspec": {
   "display_name": "Python 3",
   "language": "python",
   "name": "python3"
  },
  "language_info": {
   "codemirror_mode": {
    "name": "ipython",
    "version": 3
   },
   "file_extension": ".py",
   "mimetype": "text/x-python",
   "name": "python",
   "nbconvert_exporter": "python",
   "pygments_lexer": "ipython3",
   "version": "3.11.4"
  },
  "orig_nbformat": 4
 },
 "nbformat": 4,
 "nbformat_minor": 2
}
