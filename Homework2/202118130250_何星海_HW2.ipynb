{
 "cells": [
  {
   "cell_type": "code",
   "execution_count": 2,
   "metadata": {
    "collapsed": true
   },
   "outputs": [],
   "source": [
    "import pandas as pd\n",
    "import seaborn as sns\n",
    "import matplotlib.pyplot as plt\n",
    "df = pd.read_csv('Pokemon.csv', encoding='ISO-8859-1')\n",
    "df = df.iloc[:-2]"
   ]
  },
  {
   "cell_type": "code",
   "execution_count": 3,
   "outputs": [
    {
     "data": {
      "text/plain": "       #                 Name   Type 1    Type 2 Total   HP Attack Defense  \\\n17    13               Weedle      Bug    Poison   195  NaN     35      30   \n39    32     Nidoranâ?Poison      NaN       273    46   57     40      40   \n532  475  GalladeMega Gallade  Psychic  Fighting   618   68    165      95   \n\n    Sp. Atk Sp. Def Speed Generation Legendary  \n17       20      20    50          1     FALSE  \n39       40      50     1      FALSE       NaN  \n532      65     115   110          4       NaN  ",
      "text/html": "<div>\n<style scoped>\n    .dataframe tbody tr th:only-of-type {\n        vertical-align: middle;\n    }\n\n    .dataframe tbody tr th {\n        vertical-align: top;\n    }\n\n    .dataframe thead th {\n        text-align: right;\n    }\n</style>\n<table border=\"1\" class=\"dataframe\">\n  <thead>\n    <tr style=\"text-align: right;\">\n      <th></th>\n      <th>#</th>\n      <th>Name</th>\n      <th>Type 1</th>\n      <th>Type 2</th>\n      <th>Total</th>\n      <th>HP</th>\n      <th>Attack</th>\n      <th>Defense</th>\n      <th>Sp. Atk</th>\n      <th>Sp. Def</th>\n      <th>Speed</th>\n      <th>Generation</th>\n      <th>Legendary</th>\n    </tr>\n  </thead>\n  <tbody>\n    <tr>\n      <th>17</th>\n      <td>13</td>\n      <td>Weedle</td>\n      <td>Bug</td>\n      <td>Poison</td>\n      <td>195</td>\n      <td>NaN</td>\n      <td>35</td>\n      <td>30</td>\n      <td>20</td>\n      <td>20</td>\n      <td>50</td>\n      <td>1</td>\n      <td>FALSE</td>\n    </tr>\n    <tr>\n      <th>39</th>\n      <td>32</td>\n      <td>Nidoranâ?Poison</td>\n      <td>NaN</td>\n      <td>273</td>\n      <td>46</td>\n      <td>57</td>\n      <td>40</td>\n      <td>40</td>\n      <td>40</td>\n      <td>50</td>\n      <td>1</td>\n      <td>FALSE</td>\n      <td>NaN</td>\n    </tr>\n    <tr>\n      <th>532</th>\n      <td>475</td>\n      <td>GalladeMega Gallade</td>\n      <td>Psychic</td>\n      <td>Fighting</td>\n      <td>618</td>\n      <td>68</td>\n      <td>165</td>\n      <td>95</td>\n      <td>65</td>\n      <td>115</td>\n      <td>110</td>\n      <td>4</td>\n      <td>NaN</td>\n    </tr>\n  </tbody>\n</table>\n</div>"
     },
     "execution_count": 3,
     "metadata": {},
     "output_type": "execute_result"
    }
   ],
   "source": [
    "#数据预处理\n",
    "nan_rows = df[df.drop(columns='Type 2').isna().any(axis=1)]\n",
    "nan_rows"
   ],
   "metadata": {
    "collapsed": false
   }
  },
  {
   "cell_type": "code",
   "execution_count": 5,
   "outputs": [],
   "source": [
    "# 删除含有缺失值的行\n",
    "df = df.dropna(subset=df.columns.difference(['Type 2']))"
   ],
   "metadata": {
    "collapsed": false
   }
  },
  {
   "cell_type": "code",
   "execution_count": 7,
   "outputs": [
    {
     "name": "stdout",
     "output_type": "stream",
     "text": [
      "['FALSE' '1' '0' 'Poison' 'Ground' 'TRUE']\n",
      "['1' 'FALSE' '2' '3' '4' '5' '6' 'undefined']\n"
     ]
    }
   ],
   "source": [
    "# Coherent\n",
    "print(df['Legendary'].unique())\n",
    "print(df['Generation'].unique())"
   ],
   "metadata": {
    "collapsed": false
   }
  },
  {
   "cell_type": "code",
   "execution_count": 9,
   "outputs": [
    {
     "data": {
      "text/plain": "Empty DataFrame\nColumns: [#, Name, Type 1, Type 2, Total, HP, Attack, Defense, Sp. Atk, Sp. Def, Speed, Generation, Legendary]\nIndex: []",
      "text/html": "<div>\n<style scoped>\n    .dataframe tbody tr th:only-of-type {\n        vertical-align: middle;\n    }\n\n    .dataframe tbody tr th {\n        vertical-align: top;\n    }\n\n    .dataframe thead th {\n        text-align: right;\n    }\n</style>\n<table border=\"1\" class=\"dataframe\">\n  <thead>\n    <tr style=\"text-align: right;\">\n      <th></th>\n      <th>#</th>\n      <th>Name</th>\n      <th>Type 1</th>\n      <th>Type 2</th>\n      <th>Total</th>\n      <th>HP</th>\n      <th>Attack</th>\n      <th>Defense</th>\n      <th>Sp. Atk</th>\n      <th>Sp. Def</th>\n      <th>Speed</th>\n      <th>Generation</th>\n      <th>Legendary</th>\n    </tr>\n  </thead>\n  <tbody>\n  </tbody>\n</table>\n</div>"
     },
     "execution_count": 9,
     "metadata": {},
     "output_type": "execute_result"
    }
   ],
   "source": [
    "# 查看是否有非数字的异常,没有发现不规范的值\n",
    "num_columns = ['Total', 'HP', 'Attack', 'Defense','Sp. Atk', 'Sp. Def', 'Speed']\n",
    "non_numeric_rows = df[num_columns].apply(pd.to_numeric, errors='coerce').isna().any(axis=1)\n",
    "df[non_numeric_rows]"
   ],
   "metadata": {
    "collapsed": false
   }
  },
  {
   "cell_type": "code",
   "execution_count": 11,
   "outputs": [
    {
     "name": "stdout",
     "output_type": "stream",
     "text": [
      "(797, 12) 797\n",
      "(719, 12) 719\n"
     ]
    }
   ],
   "source": [
    "# Consistency\n",
    "# 以Name为分组标准，查看是否存在同名而属性不同数据，没有发现\n",
    "count_by_name = df.groupby('Name').nunique()\n",
    "count_by_id = df.groupby('#').nunique()\n",
    "print(count_by_name.shape, len(df['Name'].unique()))\n",
    "print(count_by_id.shape, len(df['#'].unique()))"
   ],
   "metadata": {
    "collapsed": false
   }
  },
  {
   "cell_type": "code",
   "execution_count": 12,
   "outputs": [
    {
     "data": {
      "text/plain": "Ariados                  4\nPidgeotto                2\nMetapod                  2\nSceptileMega Sceptile    1\nParas                    1\n                        ..\nXerneas                  1\nYveltal                  1\nZygarde50% Forme         1\nDiancie                  1\nVolcanion                1\nName: Name, Length: 797, dtype: int64"
     },
     "execution_count": 12,
     "metadata": {},
     "output_type": "execute_result"
    }
   ],
   "source": [
    "# 重复数据\n",
    "df['Name'].value_counts().sort_values(ascending=False)"
   ],
   "metadata": {
    "collapsed": false
   }
  }
 ],
 "metadata": {
  "kernelspec": {
   "display_name": "Python 3",
   "language": "python",
   "name": "python3"
  },
  "language_info": {
   "codemirror_mode": {
    "name": "ipython",
    "version": 2
   },
   "file_extension": ".py",
   "mimetype": "text/x-python",
   "name": "python",
   "nbconvert_exporter": "python",
   "pygments_lexer": "ipython2",
   "version": "2.7.6"
  }
 },
 "nbformat": 4,
 "nbformat_minor": 0
}
